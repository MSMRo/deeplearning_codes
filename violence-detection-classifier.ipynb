{
 "cells": [
  {
   "cell_type": "code",
   "execution_count": 2,
   "id": "61001dc3",
   "metadata": {
    "_cell_guid": "b1076dfc-b9ad-4769-8c92-a6c4dae69d19",
    "_uuid": "8f2839f25d086af736a60e9eeb907d3b93b6e0e5",
    "execution": {
     "iopub.execute_input": "2024-06-13T22:50:13.259037Z",
     "iopub.status.busy": "2024-06-13T22:50:13.258713Z",
     "iopub.status.idle": "2024-06-13T22:50:21.259038Z",
     "shell.execute_reply": "2024-06-13T22:50:21.258216Z"
    },
    "papermill": {
     "duration": 8.01176,
     "end_time": "2024-06-13T22:50:21.261476",
     "exception": false,
     "start_time": "2024-06-13T22:50:13.249716",
     "status": "completed"
    },
    "tags": []
   },
   "outputs": [],
   "source": [
    "import os\n",
    "import cv2\n",
    "import torch\n",
    "import torch.nn as nn\n",
    "import torch.optim as optim\n",
    "from torchvision import models, transforms\n",
    "from torch.utils.data import DataLoader, Dataset\n",
    "from sklearn.model_selection import train_test_split\n",
    "import matplotlib.pyplot as plt"
   ]
  },
  {
   "cell_type": "code",
   "execution_count": 3,
   "id": "27ae46b6",
   "metadata": {},
   "outputs": [
    {
     "name": "stdout",
     "output_type": "stream",
     "text": [
      "codes\t       violence_detection_model.pth\n",
      "tf-gpu-env     violence_detection_model_state_dict.pth\n",
      "torch-gpu-env\n"
     ]
    }
   ],
   "source": [
    "!ls"
   ]
  },
  {
   "cell_type": "code",
   "execution_count": 4,
   "id": "c3d0af34",
   "metadata": {},
   "outputs": [
    {
     "name": "stdout",
     "output_type": "stream",
     "text": [
      "NonViolence  Violence\n"
     ]
    }
   ],
   "source": [
    "!ls /mnt/c/Users/User/Documents/DATASETS/VIOLENCIA/archive/Real\\ Life\\ Violence\\ Dataset"
   ]
  },
  {
   "cell_type": "markdown",
   "id": "7ca70b33",
   "metadata": {
    "papermill": {
     "duration": 0.007247,
     "end_time": "2024-06-13T22:50:21.276653",
     "exception": false,
     "start_time": "2024-06-13T22:50:21.269406",
     "status": "completed"
    },
    "tags": []
   },
   "source": [
    "# Parameters"
   ]
  },
  {
   "cell_type": "code",
   "execution_count": 5,
   "id": "b99a67a5",
   "metadata": {
    "execution": {
     "iopub.execute_input": "2024-06-13T22:50:21.292978Z",
     "iopub.status.busy": "2024-06-13T22:50:21.292575Z",
     "iopub.status.idle": "2024-06-13T22:50:21.297481Z",
     "shell.execute_reply": "2024-06-13T22:50:21.296486Z"
    },
    "papermill": {
     "duration": 0.015483,
     "end_time": "2024-06-13T22:50:21.299612",
     "exception": false,
     "start_time": "2024-06-13T22:50:21.284129",
     "status": "completed"
    },
    "tags": []
   },
   "outputs": [],
   "source": [
    "img_height, img_width = 224, 224\n",
    "batch_size = 16\n",
    "epochs = 10\n",
    "learning_rate = 0.001\n",
    "sequence_length = 10  # Number of frames to consider in each sequence\n",
    "dataset_path = '/mnt/c/Users/User/Documents/DATASETS/VIOLENCIA/archive/Real Life Violence Dataset'"
   ]
  },
  {
   "cell_type": "markdown",
   "id": "c69c909a",
   "metadata": {
    "papermill": {
     "duration": 0.007305,
     "end_time": "2024-06-13T22:50:21.314552",
     "exception": false,
     "start_time": "2024-06-13T22:50:21.307247",
     "status": "completed"
    },
    "tags": []
   },
   "source": [
    "# Device configuration"
   ]
  },
  {
   "cell_type": "code",
   "execution_count": 6,
   "id": "5c849a8e",
   "metadata": {
    "execution": {
     "iopub.execute_input": "2024-06-13T22:50:21.330998Z",
     "iopub.status.busy": "2024-06-13T22:50:21.330685Z",
     "iopub.status.idle": "2024-06-13T22:50:21.410229Z",
     "shell.execute_reply": "2024-06-13T22:50:21.409334Z"
    },
    "papermill": {
     "duration": 0.090175,
     "end_time": "2024-06-13T22:50:21.412302",
     "exception": false,
     "start_time": "2024-06-13T22:50:21.322127",
     "status": "completed"
    },
    "tags": []
   },
   "outputs": [],
   "source": [
    "device = torch.device('cuda' if torch.cuda.is_available() else 'cpu')"
   ]
  },
  {
   "cell_type": "code",
   "execution_count": 7,
   "id": "9ce079be",
   "metadata": {
    "execution": {
     "iopub.execute_input": "2024-06-13T22:50:21.428734Z",
     "iopub.status.busy": "2024-06-13T22:50:21.428428Z",
     "iopub.status.idle": "2024-06-13T22:50:21.441657Z",
     "shell.execute_reply": "2024-06-13T22:50:21.440736Z"
    },
    "papermill": {
     "duration": 0.023509,
     "end_time": "2024-06-13T22:50:21.443544",
     "exception": false,
     "start_time": "2024-06-13T22:50:21.420035",
     "status": "completed"
    },
    "tags": []
   },
   "outputs": [
    {
     "name": "stdout",
     "output_type": "stream",
     "text": [
      "cuda\n"
     ]
    }
   ],
   "source": [
    "print(device)"
   ]
  },
  {
   "cell_type": "markdown",
   "id": "6ad59241",
   "metadata": {
    "papermill": {
     "duration": 0.008287,
     "end_time": "2024-06-13T22:50:21.459866",
     "exception": false,
     "start_time": "2024-06-13T22:50:21.451579",
     "status": "completed"
    },
    "tags": []
   },
   "source": [
    "# transformations"
   ]
  },
  {
   "cell_type": "code",
   "execution_count": 8,
   "id": "869db6ca",
   "metadata": {
    "execution": {
     "iopub.execute_input": "2024-06-13T22:50:21.475863Z",
     "iopub.status.busy": "2024-06-13T22:50:21.475578Z",
     "iopub.status.idle": "2024-06-13T22:50:21.480690Z",
     "shell.execute_reply": "2024-06-13T22:50:21.479779Z"
    },
    "papermill": {
     "duration": 0.015396,
     "end_time": "2024-06-13T22:50:21.482668",
     "exception": false,
     "start_time": "2024-06-13T22:50:21.467272",
     "status": "completed"
    },
    "tags": []
   },
   "outputs": [],
   "source": [
    "data_transforms = transforms.Compose([\n",
    "    transforms.ToPILImage(),\n",
    "    transforms.Resize((img_height, img_width)),\n",
    "    transforms.ToTensor(),\n",
    "    transforms.Normalize([0.485, 0.456, 0.406], [0.229, 0.224, 0.225])\n",
    "])"
   ]
  },
  {
   "cell_type": "markdown",
   "id": "5720acdb",
   "metadata": {
    "papermill": {
     "duration": 0.007497,
     "end_time": "2024-06-13T22:50:21.497858",
     "exception": false,
     "start_time": "2024-06-13T22:50:21.490361",
     "status": "completed"
    },
    "tags": []
   },
   "source": [
    "# extract frames from a video"
   ]
  },
  {
   "cell_type": "code",
   "execution_count": 9,
   "id": "d2ee20ec",
   "metadata": {
    "execution": {
     "iopub.execute_input": "2024-06-13T22:50:21.514293Z",
     "iopub.status.busy": "2024-06-13T22:50:21.513483Z",
     "iopub.status.idle": "2024-06-13T22:50:21.521226Z",
     "shell.execute_reply": "2024-06-13T22:50:21.520349Z"
    },
    "papermill": {
     "duration": 0.017808,
     "end_time": "2024-06-13T22:50:21.523087",
     "exception": false,
     "start_time": "2024-06-13T22:50:21.505279",
     "status": "completed"
    },
    "tags": []
   },
   "outputs": [],
   "source": [
    "def extract_frames(video_path, sequence_length, interval=10):\n",
    "    cap = cv2.VideoCapture(video_path)\n",
    "    frames = []\n",
    "    frame_count = 0\n",
    "    while len(frames) < sequence_length:\n",
    "        ret, frame = cap.read()\n",
    "        if not ret:\n",
    "            break\n",
    "        if frame_count % interval == 0:\n",
    "            frame = cv2.resize(frame, (img_height, img_width))\n",
    "            frames.append(frame)\n",
    "        frame_count += 1\n",
    "    cap.release()\n",
    "\n",
    "    # Handle cases where there are fewer frames than sequence_length\n",
    "    if len(frames) < sequence_length:\n",
    "        while len(frames) < sequence_length:\n",
    "            frames.append(frames[-1] if frames else cv2.resize(np.zeros((img_height, img_width, 3), dtype=np.uint8), (img_height, img_width)))\n",
    "    else:\n",
    "        frames = frames[:sequence_length]\n",
    "\n",
    "    return frames"
   ]
  },
  {
   "cell_type": "markdown",
   "id": "6a1141e1",
   "metadata": {
    "papermill": {
     "duration": 0.007441,
     "end_time": "2024-06-13T22:50:21.537907",
     "exception": false,
     "start_time": "2024-06-13T22:50:21.530466",
     "status": "completed"
    },
    "tags": []
   },
   "source": [
    "# Dataset"
   ]
  },
  {
   "cell_type": "code",
   "execution_count": 10,
   "id": "73f663b5",
   "metadata": {
    "execution": {
     "iopub.execute_input": "2024-06-13T22:50:21.554458Z",
     "iopub.status.busy": "2024-06-13T22:50:21.554166Z",
     "iopub.status.idle": "2024-06-13T22:50:21.560731Z",
     "shell.execute_reply": "2024-06-13T22:50:21.559829Z"
    },
    "papermill": {
     "duration": 0.017397,
     "end_time": "2024-06-13T22:50:21.562683",
     "exception": false,
     "start_time": "2024-06-13T22:50:21.545286",
     "status": "completed"
    },
    "tags": []
   },
   "outputs": [],
   "source": [
    "class VideoDataset(Dataset):\n",
    "    def __init__(self, video_files, labels, transform=None, sequence_length=10):\n",
    "        self.video_files = video_files\n",
    "        self.labels = labels\n",
    "        self.transform = transform\n",
    "        self.sequence_length = sequence_length\n",
    "\n",
    "    def __len__(self):\n",
    "        return len(self.video_files)\n",
    "\n",
    "    def __getitem__(self, idx):\n",
    "        frames = extract_frames(self.video_files[idx], self.sequence_length)\n",
    "        if self.transform:\n",
    "            frames = [self.transform(frame) for frame in frames]\n",
    "        label = self.labels[idx]\n",
    "        return torch.stack(frames), label"
   ]
  },
  {
   "cell_type": "markdown",
   "id": "45c1def3",
   "metadata": {
    "papermill": {
     "duration": 0.008039,
     "end_time": "2024-06-13T22:50:21.578363",
     "exception": false,
     "start_time": "2024-06-13T22:50:21.570324",
     "status": "completed"
    },
    "tags": []
   },
   "source": [
    "# Load dataset"
   ]
  },
  {
   "cell_type": "code",
   "execution_count": 11,
   "id": "b5850a0c",
   "metadata": {
    "execution": {
     "iopub.execute_input": "2024-06-13T22:50:21.596154Z",
     "iopub.status.busy": "2024-06-13T22:50:21.595651Z",
     "iopub.status.idle": "2024-06-13T22:50:21.601805Z",
     "shell.execute_reply": "2024-06-13T22:50:21.600657Z"
    },
    "papermill": {
     "duration": 0.018204,
     "end_time": "2024-06-13T22:50:21.603862",
     "exception": false,
     "start_time": "2024-06-13T22:50:21.585658",
     "status": "completed"
    },
    "tags": []
   },
   "outputs": [],
   "source": [
    "def load_dataset(dataset_path):\n",
    "    video_files = []\n",
    "    labels = []\n",
    "    classes = os.listdir(dataset_path)\n",
    "    for label, class_name in enumerate(classes):\n",
    "        class_path = os.path.join(dataset_path, class_name)\n",
    "        videos = os.listdir(class_path)\n",
    "        for video_name in videos:\n",
    "            video_path = os.path.join(class_path, video_name)\n",
    "            video_files.append(video_path)\n",
    "            labels.append(label)\n",
    "    return video_files, labels"
   ]
  },
  {
   "cell_type": "markdown",
   "id": "26e2ff31",
   "metadata": {
    "papermill": {
     "duration": 0.00791,
     "end_time": "2024-06-13T22:50:21.619823",
     "exception": false,
     "start_time": "2024-06-13T22:50:21.611913",
     "status": "completed"
    },
    "tags": []
   },
   "source": [
    "# Split"
   ]
  },
  {
   "cell_type": "code",
   "execution_count": 12,
   "id": "e4d6a067",
   "metadata": {
    "execution": {
     "iopub.execute_input": "2024-06-13T22:50:21.636575Z",
     "iopub.status.busy": "2024-06-13T22:50:21.636294Z",
     "iopub.status.idle": "2024-06-13T22:50:21.858119Z",
     "shell.execute_reply": "2024-06-13T22:50:21.857242Z"
    },
    "papermill": {
     "duration": 0.233093,
     "end_time": "2024-06-13T22:50:21.860661",
     "exception": false,
     "start_time": "2024-06-13T22:50:21.627568",
     "status": "completed"
    },
    "tags": []
   },
   "outputs": [],
   "source": [
    "video_files, labels = load_dataset(dataset_path)\n",
    "train_videos, temp_videos, train_labels, temp_labels = train_test_split(video_files, labels, test_size=0.3, random_state=42)\n",
    "val_videos, test_videos, val_labels, test_labels = train_test_split(temp_videos, temp_labels, test_size=0.5, random_state=42)"
   ]
  },
  {
   "cell_type": "code",
   "execution_count": 13,
   "id": "39cacd0c",
   "metadata": {
    "execution": {
     "iopub.execute_input": "2024-06-13T22:50:21.877848Z",
     "iopub.status.busy": "2024-06-13T22:50:21.877370Z",
     "iopub.status.idle": "2024-06-13T22:50:21.882067Z",
     "shell.execute_reply": "2024-06-13T22:50:21.881215Z"
    },
    "papermill": {
     "duration": 0.014671,
     "end_time": "2024-06-13T22:50:21.883802",
     "exception": false,
     "start_time": "2024-06-13T22:50:21.869131",
     "status": "completed"
    },
    "tags": []
   },
   "outputs": [],
   "source": [
    "train_dataset = VideoDataset(train_videos, train_labels, transform=data_transforms, sequence_length=sequence_length)\n",
    "val_dataset = VideoDataset(val_videos, val_labels, transform=data_transforms, sequence_length=sequence_length)\n",
    "test_dataset = VideoDataset(test_videos, test_labels, transform=data_transforms, sequence_length=sequence_length)"
   ]
  },
  {
   "cell_type": "markdown",
   "id": "bbef45bd",
   "metadata": {
    "papermill": {
     "duration": 0.007191,
     "end_time": "2024-06-13T22:50:21.898192",
     "exception": false,
     "start_time": "2024-06-13T22:50:21.891001",
     "status": "completed"
    },
    "tags": []
   },
   "source": [
    "# DataLoader"
   ]
  },
  {
   "cell_type": "code",
   "execution_count": 14,
   "id": "3a08d6eb",
   "metadata": {
    "execution": {
     "iopub.execute_input": "2024-06-13T22:50:21.914034Z",
     "iopub.status.busy": "2024-06-13T22:50:21.913732Z",
     "iopub.status.idle": "2024-06-13T22:50:21.918635Z",
     "shell.execute_reply": "2024-06-13T22:50:21.917740Z"
    },
    "papermill": {
     "duration": 0.015153,
     "end_time": "2024-06-13T22:50:21.920631",
     "exception": false,
     "start_time": "2024-06-13T22:50:21.905478",
     "status": "completed"
    },
    "tags": []
   },
   "outputs": [],
   "source": [
    "train_loader = DataLoader(train_dataset, batch_size=batch_size, shuffle=True, num_workers=4)\n",
    "val_loader = DataLoader(val_dataset, batch_size=batch_size, shuffle=False, num_workers=4)\n",
    "test_loader = DataLoader(test_dataset, batch_size=batch_size, shuffle=False, num_workers=4)"
   ]
  },
  {
   "cell_type": "markdown",
   "id": "f1741965",
   "metadata": {
    "papermill": {
     "duration": 0.007056,
     "end_time": "2024-06-13T22:50:21.934916",
     "exception": false,
     "start_time": "2024-06-13T22:50:21.927860",
     "status": "completed"
    },
    "tags": []
   },
   "source": [
    "# Model"
   ]
  },
  {
   "cell_type": "code",
   "execution_count": 15,
   "id": "a8186e63",
   "metadata": {
    "execution": {
     "iopub.execute_input": "2024-06-13T22:50:21.950516Z",
     "iopub.status.busy": "2024-06-13T22:50:21.950259Z",
     "iopub.status.idle": "2024-06-13T22:50:21.959019Z",
     "shell.execute_reply": "2024-06-13T22:50:21.958342Z"
    },
    "papermill": {
     "duration": 0.018791,
     "end_time": "2024-06-13T22:50:21.960936",
     "exception": false,
     "start_time": "2024-06-13T22:50:21.942145",
     "status": "completed"
    },
    "tags": []
   },
   "outputs": [],
   "source": [
    "class MobileNetGRU(nn.Module):\n",
    "    def __init__(self, hidden_dim, num_classes, num_layers=1):\n",
    "        super(MobileNetGRU, self).__init__()\n",
    "        self.hidden_dim = hidden_dim\n",
    "        self.num_layers = num_layers\n",
    "\n",
    "        # Load pre-trained MobileNetV2\n",
    "        self.mobilenet = models.mobilenet_v2(weights=models.MobileNet_V2_Weights.DEFAULT)\n",
    "        self.mobilenet.classifier = nn.Identity()  # Remove the last fully connected layer\n",
    "\n",
    "        # GRU\n",
    "        self.gru = nn.GRU(input_size=1280, hidden_size=hidden_dim, num_layers=num_layers, batch_first=True)\n",
    "\n",
    "        # Fully connected layer for classification\n",
    "        self.fc = nn.Linear(hidden_dim, num_classes)\n",
    "\n",
    "    def forward(self, x):\n",
    "        batch_size, seq_length, c, h, w = x.size()\n",
    "\n",
    "        # Reshape to (batch_size * seq_length, c, h, w) to feed each frame into MobileNet\n",
    "        x = x.view(batch_size * seq_length, c, h, w)\n",
    "        with torch.no_grad():\n",
    "            x = self.mobilenet(x)\n",
    "        \n",
    "        # Reshape back to (batch_size, seq_length, 1280) to feed into GRU\n",
    "        x = x.view(batch_size, seq_length, -1)\n",
    "\n",
    "        # GRU\n",
    "        h0 = torch.zeros(self.num_layers, batch_size, self.hidden_dim).to(x.device)\n",
    "        x, _ = self.gru(x, h0)\n",
    "\n",
    "        # Classification\n",
    "        x = self.fc(x[:, -1, :])  # Use the output of the last GRU cell\n",
    "\n",
    "        return x"
   ]
  },
  {
   "cell_type": "code",
   "execution_count": 16,
   "id": "ad341734",
   "metadata": {
    "execution": {
     "iopub.execute_input": "2024-06-13T22:50:21.976670Z",
     "iopub.status.busy": "2024-06-13T22:50:21.976412Z",
     "iopub.status.idle": "2024-06-13T22:50:22.790413Z",
     "shell.execute_reply": "2024-06-13T22:50:22.789383Z"
    },
    "papermill": {
     "duration": 0.824524,
     "end_time": "2024-06-13T22:50:22.792876",
     "exception": false,
     "start_time": "2024-06-13T22:50:21.968352",
     "status": "completed"
    },
    "tags": []
   },
   "outputs": [],
   "source": [
    "hidden_dim = 512\n",
    "num_classes = 2\n",
    "model = MobileNetGRU(hidden_dim, num_classes).to(device)"
   ]
  },
  {
   "cell_type": "markdown",
   "id": "13b8c8a0",
   "metadata": {
    "papermill": {
     "duration": 0.008153,
     "end_time": "2024-06-13T22:50:22.809524",
     "exception": false,
     "start_time": "2024-06-13T22:50:22.801371",
     "status": "completed"
    },
    "tags": []
   },
   "source": [
    "# loss function and optimizer"
   ]
  },
  {
   "cell_type": "code",
   "execution_count": 17,
   "id": "bf793beb",
   "metadata": {
    "execution": {
     "iopub.execute_input": "2024-06-13T22:50:22.827499Z",
     "iopub.status.busy": "2024-06-13T22:50:22.827183Z",
     "iopub.status.idle": "2024-06-13T22:50:22.833023Z",
     "shell.execute_reply": "2024-06-13T22:50:22.832109Z"
    },
    "papermill": {
     "duration": 0.017196,
     "end_time": "2024-06-13T22:50:22.834876",
     "exception": false,
     "start_time": "2024-06-13T22:50:22.817680",
     "status": "completed"
    },
    "tags": []
   },
   "outputs": [],
   "source": [
    "criterion = nn.CrossEntropyLoss()\n",
    "optimizer = optim.Adam(model.parameters(), lr=learning_rate)"
   ]
  },
  {
   "cell_type": "markdown",
   "id": "268414de",
   "metadata": {
    "papermill": {
     "duration": 0.007677,
     "end_time": "2024-06-13T22:50:22.850387",
     "exception": false,
     "start_time": "2024-06-13T22:50:22.842710",
     "status": "completed"
    },
    "tags": []
   },
   "source": [
    "# Training "
   ]
  },
  {
   "cell_type": "code",
   "execution_count": 22,
   "id": "94064579",
   "metadata": {
    "execution": {
     "iopub.execute_input": "2024-06-13T22:50:22.867238Z",
     "iopub.status.busy": "2024-06-13T22:50:22.866935Z",
     "iopub.status.idle": "2024-06-13T22:50:22.879299Z",
     "shell.execute_reply": "2024-06-13T22:50:22.878195Z"
    },
    "papermill": {
     "duration": 0.023111,
     "end_time": "2024-06-13T22:50:22.881358",
     "exception": false,
     "start_time": "2024-06-13T22:50:22.858247",
     "status": "completed"
    },
    "tags": []
   },
   "outputs": [],
   "source": [
    "def train_model(model, criterion, optimizer, train_loader, val_loader, num_epochs=25):\n",
    "    train_loss_history = []\n",
    "    train_acc_history = []\n",
    "    val_loss_history = []\n",
    "    val_acc_history = []\n",
    "\n",
    "    for epoch in range(num_epochs):\n",
    "        model.train()\n",
    "        running_loss = 0.0\n",
    "        running_corrects = 0\n",
    "\n",
    "        for inputs, labels in train_loader:\n",
    "            inputs = inputs.to(device)\n",
    "            labels = labels.to(device)\n",
    "\n",
    "            optimizer.zero_grad()\n",
    "\n",
    "            outputs = model(inputs)\n",
    "            _, preds = torch.max(outputs, 1)\n",
    "            loss = criterion(outputs, labels)\n",
    "\n",
    "            loss.backward()\n",
    "            optimizer.step()\n",
    "\n",
    "            running_loss += loss.item() * inputs.size(0)\n",
    "            running_corrects += torch.sum(preds == labels.data)\n",
    "\n",
    "        epoch_loss = running_loss / len(train_loader.dataset)\n",
    "        epoch_acc = running_corrects.double() / len(train_loader.dataset)\n",
    "        train_loss_history.append(epoch_loss)\n",
    "        train_acc_history.append(epoch_acc.item())\n",
    "\n",
    "        # Validation phase\n",
    "        model.eval()\n",
    "        val_running_loss = 0.0\n",
    "        val_running_corrects = 0\n",
    "\n",
    "        with torch.no_grad():\n",
    "            for inputs, labels in val_loader:\n",
    "                inputs = inputs.to(device)\n",
    "                labels = labels.to(device)\n",
    "\n",
    "                outputs = model(inputs)\n",
    "                _, preds = torch.max(outputs, 1)\n",
    "                loss = criterion(outputs, labels)\n",
    "\n",
    "                val_running_loss += loss.item() * inputs.size(0)\n",
    "                val_running_corrects += torch.sum(preds == labels.data)\n",
    "\n",
    "        val_epoch_loss = val_running_loss / len(val_loader.dataset)\n",
    "        val_epoch_acc = val_running_corrects.double() / len(val_loader.dataset)\n",
    "        val_loss_history.append(val_epoch_loss)\n",
    "        val_acc_history.append(val_epoch_acc.item())\n",
    "\n",
    "        print(f'Epoch {epoch}/{num_epochs}, Loss: {epoch_loss:.4f}, Acc: {epoch_acc:.4f}, Val Loss: {val_epoch_loss:.4f}, Val Acc: {val_epoch_acc:.4f}')\n",
    "\n",
    "    return model, train_loss_history, train_acc_history, val_loss_history, val_acc_history"
   ]
  },
  {
   "cell_type": "code",
   "execution_count": 23,
   "id": "e48fc48b",
   "metadata": {
    "execution": {
     "iopub.execute_input": "2024-06-13T22:50:22.898334Z",
     "iopub.status.busy": "2024-06-13T22:50:22.898072Z",
     "iopub.status.idle": "2024-06-13T23:10:18.865135Z",
     "shell.execute_reply": "2024-06-13T23:10:18.863646Z"
    },
    "papermill": {
     "duration": 1195.978292,
     "end_time": "2024-06-13T23:10:18.867862",
     "exception": false,
     "start_time": "2024-06-13T22:50:22.889570",
     "status": "completed"
    },
    "tags": []
   },
   "outputs": [
    {
     "name": "stderr",
     "output_type": "stream",
     "text": [
      "[h264 @ 0xcfa1600] mb_type 104 in P slice too large at 98 31\n",
      "[h264 @ 0xcfa1600] error while decoding MB 98 31\n"
     ]
    },
    {
     "name": "stdout",
     "output_type": "stream",
     "text": [
      "Epoch 0/10, Loss: 0.3869, Acc: 0.8250, Val Loss: 0.1942, Val Acc: 0.9300\n"
     ]
    },
    {
     "name": "stderr",
     "output_type": "stream",
     "text": [
      "[h264 @ 0x246eb8c0] mb_type 104 in P slice too large at 98 31\n",
      "[h264 @ 0x246eb8c0] error while decoding MB 98 31\n"
     ]
    },
    {
     "name": "stdout",
     "output_type": "stream",
     "text": [
      "Epoch 1/10, Loss: 0.1903, Acc: 0.9293, Val Loss: 0.1454, Val Acc: 0.9400\n"
     ]
    },
    {
     "name": "stderr",
     "output_type": "stream",
     "text": [
      "[h264 @ 0x248b3b80] mb_type 104 in P slice too large at 98 31\n",
      "[h264 @ 0x248b3b80] error while decoding MB 98 31\n"
     ]
    },
    {
     "name": "stdout",
     "output_type": "stream",
     "text": [
      "Epoch 2/10, Loss: 0.1322, Acc: 0.9521, Val Loss: 0.1619, Val Acc: 0.9200\n"
     ]
    },
    {
     "name": "stderr",
     "output_type": "stream",
     "text": [
      "[h264 @ 0x24fee100] mb_type 104 in P slice too large at 98 31\n",
      "[h264 @ 0x24fee100] error while decoding MB 98 31\n"
     ]
    },
    {
     "name": "stdout",
     "output_type": "stream",
     "text": [
      "Epoch 3/10, Loss: 0.1111, Acc: 0.9543, Val Loss: 0.3475, Val Acc: 0.8333\n"
     ]
    },
    {
     "name": "stderr",
     "output_type": "stream",
     "text": [
      "[h264 @ 0x24812c40] mb_type 104 in P slice too large at 98 31\n",
      "[h264 @ 0x24812c40] error while decoding MB 98 31\n"
     ]
    },
    {
     "name": "stdout",
     "output_type": "stream",
     "text": [
      "Epoch 4/10, Loss: 0.1371, Acc: 0.9493, Val Loss: 0.2999, Val Acc: 0.8667\n"
     ]
    },
    {
     "name": "stderr",
     "output_type": "stream",
     "text": [
      "[h264 @ 0x2477a040] mb_type 104 in P slice too large at 98 31\n",
      "[h264 @ 0x2477a040] error while decoding MB 98 31\n"
     ]
    },
    {
     "name": "stdout",
     "output_type": "stream",
     "text": [
      "Epoch 5/10, Loss: 0.1746, Acc: 0.9186, Val Loss: 0.1003, Val Acc: 0.9633\n"
     ]
    },
    {
     "name": "stderr",
     "output_type": "stream",
     "text": [
      "[h264 @ 0x24794000] mb_type 104 in P slice too large at 98 31\n",
      "[h264 @ 0x24794000] error while decoding MB 98 31\n"
     ]
    },
    {
     "name": "stdout",
     "output_type": "stream",
     "text": [
      "Epoch 6/10, Loss: 0.0636, Acc: 0.9757, Val Loss: 0.2390, Val Acc: 0.9167\n"
     ]
    },
    {
     "name": "stderr",
     "output_type": "stream",
     "text": [
      "[h264 @ 0x24af94c0] mb_type 104 in P slice too large at 98 31\n",
      "[h264 @ 0x24af94c0] error while decoding MB 98 31\n"
     ]
    },
    {
     "name": "stdout",
     "output_type": "stream",
     "text": [
      "Epoch 7/10, Loss: 0.0670, Acc: 0.9686, Val Loss: 0.2632, Val Acc: 0.8933\n"
     ]
    },
    {
     "name": "stderr",
     "output_type": "stream",
     "text": [
      "[h264 @ 0x24af8b80] mb_type 104 in P slice too large at 98 31\n",
      "[h264 @ 0x24af8b80] error while decoding MB 98 31\n"
     ]
    },
    {
     "name": "stdout",
     "output_type": "stream",
     "text": [
      "Epoch 8/10, Loss: 0.0526, Acc: 0.9800, Val Loss: 0.0874, Val Acc: 0.9667\n"
     ]
    },
    {
     "name": "stderr",
     "output_type": "stream",
     "text": [
      "[h264 @ 0x252bc9c0] mb_type 104 in P slice too large at 98 31\n",
      "[h264 @ 0x252bc9c0] error while decoding MB 98 31\n"
     ]
    },
    {
     "name": "stdout",
     "output_type": "stream",
     "text": [
      "Epoch 9/10, Loss: 0.0576, Acc: 0.9786, Val Loss: 0.1182, Val Acc: 0.9533\n"
     ]
    }
   ],
   "source": [
    "model, train_loss_history, train_acc_history, val_loss_history, val_acc_history = train_model(model, criterion, optimizer, train_loader, val_loader, epochs)"
   ]
  },
  {
   "cell_type": "markdown",
   "id": "e19f8935",
   "metadata": {
    "papermill": {
     "duration": 0.010746,
     "end_time": "2024-06-13T23:10:18.889263",
     "exception": false,
     "start_time": "2024-06-13T23:10:18.878517",
     "status": "completed"
    },
    "tags": []
   },
   "source": [
    "# Evaluate "
   ]
  },
  {
   "cell_type": "code",
   "execution_count": 24,
   "id": "8fb51ee9",
   "metadata": {
    "execution": {
     "iopub.execute_input": "2024-06-13T23:10:18.911907Z",
     "iopub.status.busy": "2024-06-13T23:10:18.911351Z",
     "iopub.status.idle": "2024-06-13T23:10:41.592387Z",
     "shell.execute_reply": "2024-06-13T23:10:41.591251Z"
    },
    "papermill": {
     "duration": 22.69514,
     "end_time": "2024-06-13T23:10:41.594724",
     "exception": false,
     "start_time": "2024-06-13T23:10:18.899584",
     "status": "completed"
    },
    "tags": []
   },
   "outputs": [
    {
     "name": "stdout",
     "output_type": "stream",
     "text": [
      "Test Accuracy: 0.9400\n"
     ]
    }
   ],
   "source": [
    "model.eval()\n",
    "test_corrects = 0\n",
    "\n",
    "with torch.no_grad():\n",
    "    for inputs, labels in test_loader:\n",
    "        inputs = inputs.to(device)\n",
    "        labels = labels.to(device)\n",
    "\n",
    "        outputs = model(inputs)\n",
    "        _, preds = torch.max(outputs, 1)\n",
    "        test_corrects += torch.sum(preds == labels.data)\n",
    "\n",
    "test_acc = test_corrects.double() / len(test_loader.dataset)\n",
    "print(f'Test Accuracy: {test_acc:.4f}')"
   ]
  },
  {
   "cell_type": "markdown",
   "id": "ed43f107",
   "metadata": {
    "papermill": {
     "duration": 0.010081,
     "end_time": "2024-06-13T23:10:41.614782",
     "exception": false,
     "start_time": "2024-06-13T23:10:41.604701",
     "status": "completed"
    },
    "tags": []
   },
   "source": [
    "# Plotting"
   ]
  },
  {
   "cell_type": "code",
   "execution_count": 25,
   "id": "49abfcaa",
   "metadata": {
    "execution": {
     "iopub.execute_input": "2024-06-13T23:10:41.636227Z",
     "iopub.status.busy": "2024-06-13T23:10:41.635265Z",
     "iopub.status.idle": "2024-06-13T23:10:42.207050Z",
     "shell.execute_reply": "2024-06-13T23:10:42.206062Z"
    },
    "papermill": {
     "duration": 0.585393,
     "end_time": "2024-06-13T23:10:42.209700",
     "exception": false,
     "start_time": "2024-06-13T23:10:41.624307",
     "status": "completed"
    },
    "tags": []
   },
   "outputs": [
    {
     "data": {
      "image/png": "[encoded data removed]",
      "text/plain": [
       "<Figure size 1200x400 with 2 Axes>"
      ]
     },
     "metadata": {},
     "output_type": "display_data"
    }
   ],
   "source": [
    "epochs_range = range(epochs)\n",
    "\n",
    "plt.figure(figsize=(12, 4))\n",
    "plt.subplot(1, 2, 1)\n",
    "plt.plot(epochs_range, train_loss_history, label='Train Loss')\n",
    "plt.plot(epochs_range, val_loss_history, label='Val Loss')\n",
    "plt.xlabel('Epochs')\n",
    "plt.ylabel('Loss')\n",
    "plt.legend(loc='upper right')\n",
    "plt.grid(ls=\":\")\n",
    "plt.title('Training and Validation Loss')\n",
    "\n",
    "plt.subplot(1, 2, 2)\n",
    "plt.plot(epochs_range, train_acc_history, label='Train Accuracy')\n",
    "plt.plot(epochs_range, val_acc_history, label='Val Accuracy')\n",
    "plt.xlabel('Epochs')\n",
    "plt.ylabel('Accuracy')\n",
    "plt.legend(loc='lower right')\n",
    "plt.grid(ls=\":\")\n",
    "plt.title('Training and Validation Accuracy')\n",
    "\n",
    "plt.show()"
   ]
  },
  {
   "cell_type": "code",
   "execution_count": 20,
   "id": "5284ddd2",
   "metadata": {},
   "outputs": [],
   "source": [
    "os.chdir(\"/mnt/c/Users/User/Documents/codes/DL/deeplearning_codes/\")"
   ]
  },
  {
   "cell_type": "code",
   "execution_count": 21,
   "id": "03882c2b",
   "metadata": {},
   "outputs": [
    {
     "name": "stdout",
     "output_type": "stream",
     "text": [
      "MNIST_Ejm_GPU.ipynb\t  output_video.mp4\n",
      "README.md\t\t  test_camera.ipynb\n",
      "V_1.mp4\t\t\t  test_show_video.py\n",
      "convert_model_to_h.ipynb  tf_gpu_test1.ipynb\n",
      "images\t\t\t  tutorial1_torch.ipynb\n",
      "modelo.h\t\t  violence-detection-classifier.ipynb\n",
      "modelo.tflite\t\t  violence_detection_model.pth\n",
      "output_video.gif\t  violence_detection_model_state_dict.pth\n"
     ]
    }
   ],
   "source": [
    "!ls"
   ]
  },
  {
   "cell_type": "code",
   "execution_count": 22,
   "id": "22452474",
   "metadata": {},
   "outputs": [],
   "source": [
    "# Save the entire model\n",
    "torch.save(model, 'violence_detection_model.pth')\n",
    "\n",
    "# Or save just the model state dict (recommended)\n",
    "torch.save(model.state_dict(), 'violence_detection_model_state_dict.pth')"
   ]
  },
  {
   "cell_type": "code",
   "execution_count": 31,
   "id": "aeac3b46",
   "metadata": {},
   "outputs": [
    {
     "name": "stdout",
     "output_type": "stream",
     "text": [
      "MNIST_Ejm_GPU.ipynb\t  tf_gpu_test1.ipynb\n",
      "README.md\t\t  tutorial1_torch.ipynb\n",
      "convert_model_to_h.ipynb  violence-detection-classifier.ipynb\n",
      "images\t\t\t  violence_detection_model.pth\n",
      "modelo.h\t\t  violence_detection_model_state_dict.pth\n",
      "modelo.tflite\n"
     ]
    }
   ],
   "source": [
    "!ls"
   ]
  },
  {
   "cell_type": "code",
   "execution_count": 31,
   "id": "2f143415",
   "metadata": {},
   "outputs": [
    {
     "name": "stderr",
     "output_type": "stream",
     "text": [
      "/tmp/ipykernel_216838/76353674.py:8: FutureWarning: You are using `torch.load` with `weights_only=False` (the current default value), which uses the default pickle module implicitly. It is possible to construct malicious pickle data which will execute arbitrary code during unpickling (See https://github.com/pytorch/pytorch/blob/main/SECURITY.md#untrusted-models for more details). In a future release, the default value for `weights_only` will be flipped to `True`. This limits the functions that could be executed during unpickling. Arbitrary objects will no longer be allowed to be loaded via this mode unless they are explicitly allowlisted by the user via `torch.serialization.add_safe_globals`. We recommend you start setting `weights_only=True` for any use case where you don't have full control of the loaded file. Please open an issue on GitHub for any issues related to this experimental feature.\n",
      "  model = torch.load('violence_detection_model.pth')\n"
     ]
    },
    {
     "ename": "ValueError",
     "evalue": "not enough values to unpack (expected 5, got 3)",
     "output_type": "error",
     "traceback": [
      "\u001b[0;31m---------------------------------------------------------------------------\u001b[0m",
      "\u001b[0;31mValueError\u001b[0m                                Traceback (most recent call last)",
      "Cell \u001b[0;32mIn[31], line 51\u001b[0m\n\u001b[1;32m     48\u001b[0m \u001b[38;5;28;01mwith\u001b[39;00m torch\u001b[38;5;241m.\u001b[39mno_grad():\n\u001b[1;32m     49\u001b[0m     \u001b[38;5;66;03m#input_batch = input_tensor.unsqueeze(0).to(device)\u001b[39;00m\n\u001b[1;32m     50\u001b[0m     input_batch \u001b[38;5;241m=\u001b[39m input_tensor\u001b[38;5;241m.\u001b[39mto(device)\n\u001b[0;32m---> 51\u001b[0m     output \u001b[38;5;241m=\u001b[39m \u001b[43mmodel\u001b[49m\u001b[43m(\u001b[49m\u001b[43minput_batch\u001b[49m\u001b[43m)\u001b[49m\n\u001b[1;32m     52\u001b[0m     prediction \u001b[38;5;241m=\u001b[39m torch\u001b[38;5;241m.\u001b[39msigmoid(output)\n\u001b[1;32m     53\u001b[0m     prob \u001b[38;5;241m=\u001b[39m prediction\u001b[38;5;241m.\u001b[39mitem()\n",
      "File \u001b[0;32m~/torch-gpu-env/lib/python3.12/site-packages/torch/nn/modules/module.py:1736\u001b[0m, in \u001b[0;36mModule._wrapped_call_impl\u001b[0;34m(self, *args, **kwargs)\u001b[0m\n\u001b[1;32m   1734\u001b[0m     \u001b[38;5;28;01mreturn\u001b[39;00m \u001b[38;5;28mself\u001b[39m\u001b[38;5;241m.\u001b[39m_compiled_call_impl(\u001b[38;5;241m*\u001b[39margs, \u001b[38;5;241m*\u001b[39m\u001b[38;5;241m*\u001b[39mkwargs)  \u001b[38;5;66;03m# type: ignore[misc]\u001b[39;00m\n\u001b[1;32m   1735\u001b[0m \u001b[38;5;28;01melse\u001b[39;00m:\n\u001b[0;32m-> 1736\u001b[0m     \u001b[38;5;28;01mreturn\u001b[39;00m \u001b[38;5;28;43mself\u001b[39;49m\u001b[38;5;241;43m.\u001b[39;49m\u001b[43m_call_impl\u001b[49m\u001b[43m(\u001b[49m\u001b[38;5;241;43m*\u001b[39;49m\u001b[43margs\u001b[49m\u001b[43m,\u001b[49m\u001b[43m \u001b[49m\u001b[38;5;241;43m*\u001b[39;49m\u001b[38;5;241;43m*\u001b[39;49m\u001b[43mkwargs\u001b[49m\u001b[43m)\u001b[49m\n",
      "File \u001b[0;32m~/torch-gpu-env/lib/python3.12/site-packages/torch/nn/modules/module.py:1747\u001b[0m, in \u001b[0;36mModule._call_impl\u001b[0;34m(self, *args, **kwargs)\u001b[0m\n\u001b[1;32m   1742\u001b[0m \u001b[38;5;66;03m# If we don't have any hooks, we want to skip the rest of the logic in\u001b[39;00m\n\u001b[1;32m   1743\u001b[0m \u001b[38;5;66;03m# this function, and just call forward.\u001b[39;00m\n\u001b[1;32m   1744\u001b[0m \u001b[38;5;28;01mif\u001b[39;00m \u001b[38;5;129;01mnot\u001b[39;00m (\u001b[38;5;28mself\u001b[39m\u001b[38;5;241m.\u001b[39m_backward_hooks \u001b[38;5;129;01mor\u001b[39;00m \u001b[38;5;28mself\u001b[39m\u001b[38;5;241m.\u001b[39m_backward_pre_hooks \u001b[38;5;129;01mor\u001b[39;00m \u001b[38;5;28mself\u001b[39m\u001b[38;5;241m.\u001b[39m_forward_hooks \u001b[38;5;129;01mor\u001b[39;00m \u001b[38;5;28mself\u001b[39m\u001b[38;5;241m.\u001b[39m_forward_pre_hooks\n\u001b[1;32m   1745\u001b[0m         \u001b[38;5;129;01mor\u001b[39;00m _global_backward_pre_hooks \u001b[38;5;129;01mor\u001b[39;00m _global_backward_hooks\n\u001b[1;32m   1746\u001b[0m         \u001b[38;5;129;01mor\u001b[39;00m _global_forward_hooks \u001b[38;5;129;01mor\u001b[39;00m _global_forward_pre_hooks):\n\u001b[0;32m-> 1747\u001b[0m     \u001b[38;5;28;01mreturn\u001b[39;00m \u001b[43mforward_call\u001b[49m\u001b[43m(\u001b[49m\u001b[38;5;241;43m*\u001b[39;49m\u001b[43margs\u001b[49m\u001b[43m,\u001b[49m\u001b[43m \u001b[49m\u001b[38;5;241;43m*\u001b[39;49m\u001b[38;5;241;43m*\u001b[39;49m\u001b[43mkwargs\u001b[49m\u001b[43m)\u001b[49m\n\u001b[1;32m   1749\u001b[0m result \u001b[38;5;241m=\u001b[39m \u001b[38;5;28;01mNone\u001b[39;00m\n\u001b[1;32m   1750\u001b[0m called_always_called_hooks \u001b[38;5;241m=\u001b[39m \u001b[38;5;28mset\u001b[39m()\n",
      "Cell \u001b[0;32mIn[15], line 18\u001b[0m, in \u001b[0;36mMobileNetGRU.forward\u001b[0;34m(self, x)\u001b[0m\n\u001b[1;32m     17\u001b[0m \u001b[38;5;28;01mdef\u001b[39;00m \u001b[38;5;21mforward\u001b[39m(\u001b[38;5;28mself\u001b[39m, x):\n\u001b[0;32m---> 18\u001b[0m     batch_size, seq_length, c, h, w \u001b[38;5;241m=\u001b[39m x\u001b[38;5;241m.\u001b[39msize()\n\u001b[1;32m     20\u001b[0m     \u001b[38;5;66;03m# Reshape to (batch_size * seq_length, c, h, w) to feed each frame into MobileNet\u001b[39;00m\n\u001b[1;32m     21\u001b[0m     x \u001b[38;5;241m=\u001b[39m x\u001b[38;5;241m.\u001b[39mview(batch_size \u001b[38;5;241m*\u001b[39m seq_length, c, h, w)\n",
      "\u001b[0;31mValueError\u001b[0m: not enough values to unpack (expected 5, got 3)"
     ]
    }
   ],
   "source": [
    "import cv2\n",
    "import torch\n",
    "import torchvision.transforms as transforms\n",
    "from PIL import Image\n",
    "import numpy as np\n",
    "\n",
    "# Load your PyTorch model\n",
    "model = torch.load('violence_detection_model.pth')\n",
    "model.eval()\n",
    "\n",
    "# Define transforms - adjust according to your model's training\n",
    "#transform = transforms.Compose([\n",
    "#    transforms.Resize((64, 64)),\n",
    "#    transforms.ToTensor(),\n",
    "#    transforms.Normalize(mean=[0.485, 0.456, 0.406], \n",
    "#                        std=[0.229, 0.224, 0.225])\n",
    "#])\n",
    "\n",
    "\n",
    "transform = transforms.Compose([\n",
    "    transforms.ToPILImage(),\n",
    "    transforms.Resize((img_height, img_width)),\n",
    "    transforms.ToTensor(),\n",
    "    transforms.Normalize([0.485, 0.456, 0.406], [0.229, 0.224, 0.225])\n",
    "])\n",
    "\n",
    "# Initialize webcam\n",
    "cap = cv2.VideoCapture(\"/mnt/c/Users/User/Documents/DATASETS/VIOLENCIA/archive/Real Life Violence Dataset/Violence/V_1.mp4\")\n",
    "\n",
    "device = torch.device('cuda' if torch.cuda.is_available() else 'cpu')\n",
    "model = model.to(device)\n",
    "\n",
    "while True:\n",
    "    ret, frame = cap.read()\n",
    "    if not ret:\n",
    "        print(\"Failed to grab frame\")\n",
    "        break\n",
    "    \n",
    "    # Convert frame to PIL Image\n",
    "    #pil_image = Image.fromarray(cv2.cvtColor(frame, cv2.COLOR_BGR2RGB))\n",
    "    pil_image = cv2.cvtColor(frame, cv2.COLOR_BGR2RGB)\n",
    "    \n",
    "    # Preprocess frame\n",
    "    input_tensor = transform(pil_image)\n",
    "    \n",
    "    \n",
    "    # Get prediction\n",
    "    with torch.no_grad():\n",
    "        #input_batch = input_tensor.unsqueeze(0).to(device)\n",
    "        input_batch = input_tensor.to(device)\n",
    "        output = model(input_batch)\n",
    "        prediction = torch.sigmoid(output)\n",
    "        prob = prediction.item()\n",
    "    \n",
    "    # Display result\n",
    "    label = \"Violence\" if prob > 0.5 else \"No Violence\"\n",
    "    color = (0, 0, 255) if label == \"Violence\" else (0, 255, 0)\n",
    "    \n",
    "    #cv2.putText(frame, f\"{label}: {prob:.2f}\", \n",
    "    #            (10, 30), cv2.FONT_HERSHEY_SIMPLEX, 1, color, 2)\n",
    "    \n",
    "    #cv2.imshow('Violence Detection', frame)\n",
    "    \n",
    "    #if cv2.waitKey(1) & 0xFF == ord('q'):\n",
    "    #    break\n",
    "\n",
    "cap.release()\n",
    "cv2.destroyAllWindows()"
   ]
  },
  {
   "cell_type": "code",
   "execution_count": 33,
   "id": "f72d2d72",
   "metadata": {},
   "outputs": [
    {
     "name": "stderr",
     "output_type": "stream",
     "text": [
      "/tmp/ipykernel_216838/1513801143.py:12: FutureWarning: You are using `torch.load` with `weights_only=False` (the current default value), which uses the default pickle module implicitly. It is possible to construct malicious pickle data which will execute arbitrary code during unpickling (See https://github.com/pytorch/pytorch/blob/main/SECURITY.md#untrusted-models for more details). In a future release, the default value for `weights_only` will be flipped to `True`. This limits the functions that could be executed during unpickling. Arbitrary objects will no longer be allowed to be loaded via this mode unless they are explicitly allowlisted by the user via `torch.serialization.add_safe_globals`. We recommend you start setting `weights_only=True` for any use case where you don't have full control of the loaded file. Please open an issue on GitHub for any issues related to this experimental feature.\n",
      "  model = torch.load('violence_detection_model.pth')\n"
     ]
    },
    {
     "ename": "",
     "evalue": "",
     "output_type": "error",
     "traceback": [
      "\u001b[1;31mThe Kernel crashed while executing code in the current cell or a previous cell. \n",
      "\u001b[1;31mPlease review the code in the cell(s) to identify a possible cause of the failure. \n",
      "\u001b[1;31mClick <a href='https://aka.ms/vscodeJupyterKernelCrash'>here</a> for more info. \n",
      "\u001b[1;31mView Jupyter <a href='command:jupyter.viewOutput'>log</a> for further details."
     ]
    },
    {
     "ename": "",
     "evalue": "",
     "output_type": "error",
     "traceback": [
      "\u001b[1;31mCanceled future for execute_request message before replies were done"
     ]
    },
    {
     "ename": "",
     "evalue": "",
     "output_type": "error",
     "traceback": [
      "\u001b[1;31mCanceled future for execute_request message before replies were done. \n",
      "\u001b[1;31mView Jupyter <a href='command:jupyter.viewOutput'>log</a> for further details."
     ]
    }
   ],
   "source": [
    "#import cv2\n",
    "#import torch\n",
    "#import torchvision.transforms as transforms\n",
    "#import numpy as np\n",
    "from collections import deque\n",
    "\n",
    "# Definir el tamaño de la imagen y la longitud de la secuencia\n",
    "img_height, img_width = 64, 64  # Ajusta estos valores según lo que espera tu modelo\n",
    "seq_length = 16  # Número de frames por secuencia\n",
    "\n",
    "# Cargar el modelo de PyTorch\n",
    "model = torch.load('violence_detection_model.pth')\n",
    "model.eval()\n",
    "\n",
    "# Definir las transformaciones\n",
    "transform = transforms.Compose([\n",
    "    transforms.ToPILImage(),\n",
    "    transforms.Resize((img_height, img_width)),\n",
    "    transforms.ToTensor(),\n",
    "    transforms.Normalize([0.485, 0.456, 0.406], [0.229, 0.224, 0.225])\n",
    "])\n",
    "\n",
    "# Inicializar el video\n",
    "cap = cv2.VideoCapture(\"/mnt/c/Users/User/Documents/DATASETS/VIOLENCIA/archive/Real Life Violence Dataset/Violence/V_1.mp4\")\n",
    "\n",
    "device = torch.device('cuda' if torch.cuda.is_available() else 'cpu')\n",
    "model = model.to(device)\n",
    "\n",
    "# Buffer para acumular frames y crear la secuencia\n",
    "frame_buffer = deque(maxlen=seq_length)\n",
    "\n",
    "while True:\n",
    "    ret, frame = cap.read()\n",
    "    if not ret:\n",
    "        print(\"Failed to grab frame\")\n",
    "        break\n",
    "    \n",
    "    # Convertir el frame a RGB para Pillow\n",
    "    pil_image = cv2.cvtColor(frame, cv2.COLOR_BGR2RGB)\n",
    "    \n",
    "    # Preprocesar el frame\n",
    "    input_tensor = transform(pil_image)\n",
    "    frame_buffer.append(input_tensor)\n",
    "\n",
    "    # Procesar cuando el buffer tenga suficientes frames\n",
    "    if len(frame_buffer) == seq_length:\n",
    "        # Crear el tensor de entrada con la dimensión de secuencia temporal\n",
    "        input_batch = torch.stack(list(frame_buffer)).unsqueeze(0).to(device)  # (1, seq_length, C, H, W)\n",
    "\n",
    "        # Obtener predicción\n",
    "        with torch.no_grad():\n",
    "            output = model(input_batch)\n",
    "            prediction = torch.sigmoid(output)\n",
    "            prob = prediction.item()\n",
    "        \n",
    "        # Mostrar el resultado\n",
    "        label = \"Violence\" if prob > 0.5 else \"No Violence\"\n",
    "        color = (0, 0, 255) if label == \"Violence\" else (0, 255, 0)\n",
    "        \n",
    "        cv2.putText(frame, f\"{label}: {prob:.2f}\", \n",
    "                    (10, 30), cv2.FONT_HERSHEY_SIMPLEX, 1, color, 2)\n",
    "    \n",
    "    cv2.imshow('Violence Detection', frame)\n",
    "    \n",
    "    if cv2.waitKey(1) & 0xFF == ord('q'):\n",
    "        break\n",
    "\n",
    "cap.release()\n",
    "cv2.destroyAllWindows()\n"
   ]
  },
  {
   "cell_type": "code",
   "execution_count": null,
   "id": "3b28a82d",
   "metadata": {},
   "outputs": [],
   "source": []
  }
 ],
 "metadata": {
  "kaggle": {
   "accelerator": "nvidiaTeslaT4",
   "dataSources": [
    {
     "datasetId": 176381,
     "sourceId": 397693,
     "sourceType": "datasetVersion"
    }
   ],
   "dockerImageVersionId": 30733,
   "isGpuEnabled": true,
   "isInternetEnabled": true,
   "language": "python",
   "sourceType": "notebook"
  },
  "kernelspec": {
   "display_name": "Python 3 (ipykernel)",
   "language": "python",
   "name": "python3"
  },
  "language_info": {
   "codemirror_mode": {
    "name": "ipython",
    "version": 3
   },
   "file_extension": ".py",
   "mimetype": "text/x-python",
   "name": "python",
   "nbconvert_exporter": "python",
   "pygments_lexer": "ipython3",
   "version": "3.12.3"
  },
  "papermill": {
   "default_parameters": {},
   "duration": 1233.963739,
   "end_time": "2024-06-13T23:10:44.047156",
   "environment_variables": {},
   "exception": null,
   "input_path": "__notebook__.ipynb",
   "output_path": "__notebook__.ipynb",
   "parameters": {},
   "start_time": "2024-06-13T22:50:10.083417",
   "version": "2.5.0"
  }
 },
 "nbformat": 4,
 "nbformat_minor": 5
}
